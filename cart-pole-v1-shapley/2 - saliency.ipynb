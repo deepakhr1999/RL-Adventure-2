{
 "cells": [
  {
   "cell_type": "code",
   "execution_count": 1,
   "metadata": {},
   "outputs": [],
   "source": [
    "import gym\n",
    "import numpy as np\n",
    "\n",
    "import torch\n",
    "import torch.nn as nn\n",
    "import torch.nn.functional as F\n",
    "from torch.distributions import Categorical"
   ]
  },
  {
   "cell_type": "markdown",
   "metadata": {},
   "source": [
    "<h2>Use CUDA</h2>"
   ]
  },
  {
   "cell_type": "code",
   "execution_count": 2,
   "metadata": {},
   "outputs": [],
   "source": [
    "from IPython.display import clear_output\n",
    "import matplotlib.pyplot as plt\n",
    "import seaborn as sns\n",
    "sns.set()"
   ]
  },
  {
   "cell_type": "code",
   "execution_count": 3,
   "metadata": {},
   "outputs": [],
   "source": [
    "# use_cuda = torch.cuda.is_available()\n",
    "use_cuda = False\n",
    "device   = torch.device(\"cuda\" if use_cuda else \"cpu\")"
   ]
  },
  {
   "cell_type": "markdown",
   "metadata": {},
   "source": [
    "<h2>Create Environments</h2>"
   ]
  },
  {
   "cell_type": "code",
   "execution_count": 4,
   "metadata": {},
   "outputs": [],
   "source": [
    "import sys\n",
    "sys.path.append('/home/deepak/Desktop/RL-Adventure-2/')\n",
    "from common import SubprocVecEnv\n",
    "\n",
    "num_envs = 16\n",
    "env_name = \"CartPole-v0\"\n",
    "\n",
    "def make_env():\n",
    "    def _thunk():\n",
    "        env = gym.make(env_name)\n",
    "        return env\n",
    "\n",
    "    return _thunk\n",
    "\n",
    "envs = [make_env() for i in range(num_envs)]\n",
    "envs = SubprocVecEnv(envs)\n",
    "\n",
    "env = gym.make(env_name)"
   ]
  },
  {
   "cell_type": "markdown",
   "metadata": {},
   "source": [
    "<h2>Neural Network</h2>"
   ]
  },
  {
   "cell_type": "code",
   "execution_count": 5,
   "metadata": {},
   "outputs": [],
   "source": [
    "class ActorCritic(nn.Module):\n",
    "    def __init__(self, num_inputs, num_outputs, hidden_size, std=0.0):\n",
    "        super(ActorCritic, self).__init__()\n",
    "        \n",
    "        self.critic = nn.Sequential(\n",
    "            nn.Linear(num_inputs, hidden_size),\n",
    "            nn.ReLU(),\n",
    "            nn.Linear(hidden_size, 1)\n",
    "        )\n",
    "        \n",
    "        self.actor = nn.Sequential(\n",
    "            nn.Linear(num_inputs, hidden_size),\n",
    "            nn.ReLU(),\n",
    "            nn.Linear(hidden_size, num_outputs),\n",
    "        )\n",
    "        \n",
    "    def forward(self, x):\n",
    "        value = self.critic(x)\n",
    "        probs = F.softmax(self.actor(x))\n",
    "        dist  = Categorical(probs)\n",
    "        return dist, value\n",
    "\n",
    "    def get_logits(self, x):\n",
    "        logits = self.actor(x)\n",
    "        return logits[:, 1] - logits[:, 0]"
   ]
  },
  {
   "cell_type": "code",
   "execution_count": 6,
   "metadata": {},
   "outputs": [],
   "source": [
    "def plot(frame_idx, rewards):\n",
    "    clear_output(True)\n",
    "    plt.figure(figsize=(20,5))\n",
    "    plt.subplot(131)\n",
    "    plt.title('frame %s. reward: %s' % (frame_idx, rewards[-1]))\n",
    "    plt.plot(rewards)\n",
    "    plt.show()\n",
    "    \n",
    "def test_env(vis=False):\n",
    "    state = env.reset()\n",
    "    if vis: env.render()\n",
    "    done = False\n",
    "    total_reward = 0\n",
    "    all_states = []\n",
    "    all_actions = []\n",
    "    while not done:\n",
    "        state = torch.FloatTensor(state[:3]).unsqueeze(0).to(device)\n",
    "        all_states.append(state)\n",
    "\n",
    "        dist, _ = model(state)\n",
    "        action = dist.sample().cpu().numpy()[0]\n",
    "        all_actions.append(action)\n",
    "\n",
    "        next_state, reward, done, _ = env.step(action)\n",
    "        state = next_state\n",
    "        if vis:\n",
    "            env.render()\n",
    "        total_reward += reward\n",
    "    return total_reward, all_states, all_actions"
   ]
  },
  {
   "cell_type": "code",
   "execution_count": 7,
   "metadata": {},
   "outputs": [],
   "source": [
    "def compute_returns(next_value, rewards, masks, gamma=0.99):\n",
    "    R = next_value\n",
    "    returns = []\n",
    "    for step in reversed(range(len(rewards))):\n",
    "        R = rewards[step] + gamma * R * masks[step]\n",
    "        returns.insert(0, R)\n",
    "    return returns"
   ]
  },
  {
   "cell_type": "code",
   "execution_count": 8,
   "metadata": {},
   "outputs": [
    {
     "data": {
      "text/plain": [
       "<All keys matched successfully>"
      ]
     },
     "execution_count": 8,
     "metadata": {},
     "output_type": "execute_result"
    }
   ],
   "source": [
    "num_inputs  = envs.observation_space.shape[0] - 1\n",
    "num_outputs = envs.action_space.n\n",
    "\n",
    "#Hyper params:\n",
    "hidden_size = 256\n",
    "lr          = 3e-4\n",
    "num_steps   = 5\n",
    "\n",
    "model = ActorCritic(num_inputs, num_outputs, hidden_size).to(device)\n",
    "model.load_state_dict(torch.load('cartpole-v0-no-omega.dqn.pt', map_location='cpu'))"
   ]
  },
  {
   "cell_type": "code",
   "execution_count": 9,
   "metadata": {},
   "outputs": [],
   "source": [
    "max_frames   = 20000\n",
    "frame_idx    = 0\n",
    "test_rewards = []"
   ]
  },
  {
   "cell_type": "code",
   "execution_count": 10,
   "metadata": {},
   "outputs": [
    {
     "data": {
      "application/vnd.jupyter.widget-view+json": {
       "model_id": "97afcb9ae09447daa6f1f60f7a1b1665",
       "version_major": 2,
       "version_minor": 0
      },
      "text/plain": [
       "  0%|          | 0/1000 [00:00<?, ?it/s]"
      ]
     },
     "metadata": {},
     "output_type": "display_data"
    },
    {
     "name": "stderr",
     "output_type": "stream",
     "text": [
      "/tmp/ipykernel_6306/4057391499.py:19: UserWarning: Implicit dimension choice for softmax has been deprecated. Change the call to include dim=X as an argument.\n",
      "  probs = F.softmax(self.actor(x))\n"
     ]
    },
    {
     "data": {
      "text/plain": [
       "torch.Size([148428, 3])"
      ]
     },
     "execution_count": 10,
     "metadata": {},
     "output_type": "execute_result"
    }
   ],
   "source": [
    "all_rewards, all_states, all_actions = [], [], []\n",
    "from tqdm.notebook import tqdm\n",
    "for _ in tqdm(range(1000)):\n",
    "    # roll out level\n",
    "    reward, states, actions = test_env(False)\n",
    "\n",
    "    all_rewards.append(reward)\n",
    "    all_states.extend(states)\n",
    "    all_actions.extend(actions)\n",
    "    \n",
    "all_states = torch.concat(all_states, dim=0)\n",
    "all_states.shape"
   ]
  },
  {
   "cell_type": "markdown",
   "metadata": {},
   "source": [
    "Num | Observation | Min | Max\n",
    "---|---|---|---\n",
    "0 | Cart Position | -2.4 | 2.4\n",
    "1 | Cart Velocity | -Inf | Inf\n",
    "2 | Pole Angle | ~ -0.418 rad (-24&deg;) | ~ 0.418 rad (24&deg;)\n",
    "3 | Pole Velocity At Tip | -Inf | Inf"
   ]
  },
  {
   "cell_type": "code",
   "execution_count": 11,
   "metadata": {},
   "outputs": [
    {
     "data": {
      "application/vnd.jupyter.widget-view+json": {
       "model_id": "79a2feee5a4c48a7a7d979822ed9a398",
       "version_major": 2,
       "version_minor": 0
      },
      "text/plain": [
       "  0%|          | 0/148428 [00:00<?, ?it/s]"
      ]
     },
     "metadata": {},
     "output_type": "display_data"
    },
    {
     "data": {
      "text/plain": [
       "torch.Size([148428, 3])"
      ]
     },
     "execution_count": 11,
     "metadata": {},
     "output_type": "execute_result"
    }
   ],
   "source": [
    "from common import Perturber\n",
    "perturber = Perturber()\n",
    "delta_out = []\n",
    "with torch.no_grad():\n",
    "    for state in tqdm(all_states):\n",
    "        left_approach, right_approach, pert = perturber.perturb(state)\n",
    "        left_limit = model.get_logits(left_approach)\n",
    "        right_limit = model.get_logits(right_approach)\n",
    "        delta_out.append((right_limit - left_limit) / (2 * pert))\n",
    "\n",
    "        # original_probs = model.actor()[:, 0]\n",
    "        # changed_probs = model.actor(perturbed_states)[:, 0]\n",
    "        # delta_out.append((original_probs - changed_probs) / perturbation)\n",
    "\n",
    "delta_out = torch.vstack(delta_out)\n",
    "delta_out.shape"
   ]
  },
  {
   "cell_type": "markdown",
   "metadata": {},
   "source": [
    "### State vs action\n",
    "Trained 2 layer FFN (one for actor and one for critic)\n",
    "100 rollouts were made and average of 187.7 was achieved\n",
    "Each dimension of state has 2 histograms - grouped by action taken\n",
    "- position and velocity don't really seem to influence the action taken (histogram is similar)\n",
    "- model mainly uses theta and omega\n",
    "  - higher the value, more likely to push right (1)\n",
    "  - lower the value, more likely to push left (0)"
   ]
  },
  {
   "cell_type": "code",
   "execution_count": 12,
   "metadata": {},
   "outputs": [
    {
     "data": {
      "text/plain": [
       "148.428"
      ]
     },
     "execution_count": 12,
     "metadata": {},
     "output_type": "execute_result"
    }
   ],
   "source": [
    "np.mean(all_rewards)"
   ]
  },
  {
   "cell_type": "code",
   "execution_count": 13,
   "metadata": {},
   "outputs": [
    {
     "data": {
      "image/png": "[encoded data removed]",
      "text/plain": [
       "<Figure size 1440x432 with 3 Axes>"
      ]
     },
     "metadata": {
      "needs_background": "light"
     },
     "output_type": "display_data"
    }
   ],
   "source": [
    "fig, axs = plt.subplots(1, 3, figsize=(20, 6))\n",
    "names = ['position', 'velocity', 'theta']\n",
    "for idx, ax in enumerate(axs):\n",
    "    values = all_states[:, idx].numpy()\n",
    "    sns.histplot(x=values, hue=all_actions, ax=ax)\n",
    "    ax.set_title(names[idx])\n",
    "    ax.set_xlabel(f'Values of {names[idx]}')\n",
    "    ax.set_ylabel(\"Counts for each action taken\")"
   ]
  },
  {
   "cell_type": "markdown",
   "metadata": {},
   "source": [
    "### State vs saliency"
   ]
  },
  {
   "cell_type": "code",
   "execution_count": 14,
   "metadata": {},
   "outputs": [
    {
     "data": {
      "text/html": [
       "<div>\n",
       "<style scoped>\n",
       "    .dataframe tbody tr th:only-of-type {\n",
       "        vertical-align: middle;\n",
       "    }\n",
       "\n",
       "    .dataframe tbody tr th {\n",
       "        vertical-align: top;\n",
       "    }\n",
       "\n",
       "    .dataframe thead th {\n",
       "        text-align: right;\n",
       "    }\n",
       "</style>\n",
       "<table border=\"1\" class=\"dataframe\">\n",
       "  <thead>\n",
       "    <tr style=\"text-align: right;\">\n",
       "      <th></th>\n",
       "      <th>position</th>\n",
       "      <th>velocity</th>\n",
       "      <th>theta</th>\n",
       "    </tr>\n",
       "  </thead>\n",
       "  <tbody>\n",
       "    <tr>\n",
       "      <th>min</th>\n",
       "      <td>-1.174939</td>\n",
       "      <td>-2.081533</td>\n",
       "      <td>-0.209427</td>\n",
       "    </tr>\n",
       "    <tr>\n",
       "      <th>max</th>\n",
       "      <td>2.399932</td>\n",
       "      <td>3.804072</td>\n",
       "      <td>0.209429</td>\n",
       "    </tr>\n",
       "  </tbody>\n",
       "</table>\n",
       "</div>"
      ],
      "text/plain": [
       "     position  velocity     theta\n",
       "min -1.174939 -2.081533 -0.209427\n",
       "max  2.399932  3.804072  0.209429"
      ]
     },
     "execution_count": 14,
     "metadata": {},
     "output_type": "execute_result"
    }
   ],
   "source": [
    "import pandas as pd\n",
    "pd.DataFrame(all_states.numpy(), columns=['position', 'velocity', 'theta']).agg(['min', 'max'])"
   ]
  },
  {
   "cell_type": "code",
   "execution_count": 15,
   "metadata": {},
   "outputs": [
    {
     "data": {
      "text/html": [
       "<div>\n",
       "<style scoped>\n",
       "    .dataframe tbody tr th:only-of-type {\n",
       "        vertical-align: middle;\n",
       "    }\n",
       "\n",
       "    .dataframe tbody tr th {\n",
       "        vertical-align: top;\n",
       "    }\n",
       "\n",
       "    .dataframe thead th {\n",
       "        text-align: right;\n",
       "    }\n",
       "</style>\n",
       "<table border=\"1\" class=\"dataframe\">\n",
       "  <thead>\n",
       "    <tr style=\"text-align: right;\">\n",
       "      <th></th>\n",
       "      <th>position</th>\n",
       "      <th>velocity</th>\n",
       "      <th>theta</th>\n",
       "      <th>position_sal</th>\n",
       "      <th>velocity_sal</th>\n",
       "      <th>theta_sal</th>\n",
       "      <th>position_bin</th>\n",
       "      <th>velocity_bin</th>\n",
       "      <th>theta_bin</th>\n",
       "    </tr>\n",
       "  </thead>\n",
       "  <tbody>\n",
       "    <tr>\n",
       "      <th>0</th>\n",
       "      <td>0.038941</td>\n",
       "      <td>0.024001</td>\n",
       "      <td>0.042198</td>\n",
       "      <td>0.312982</td>\n",
       "      <td>-2.373603</td>\n",
       "      <td>28.006554</td>\n",
       "      <td>(0.0384, 0.354]</td>\n",
       "      <td>(-2.0829999999999997, 0.148]</td>\n",
       "      <td>(0.0344, 0.0751]</td>\n",
       "    </tr>\n",
       "    <tr>\n",
       "      <th>1</th>\n",
       "      <td>0.039421</td>\n",
       "      <td>-0.171700</td>\n",
       "      <td>0.042655</td>\n",
       "      <td>0.265814</td>\n",
       "      <td>-2.531295</td>\n",
       "      <td>27.141556</td>\n",
       "      <td>(0.0384, 0.354]</td>\n",
       "      <td>(-2.0829999999999997, 0.148]</td>\n",
       "      <td>(0.0344, 0.0751]</td>\n",
       "    </tr>\n",
       "    <tr>\n",
       "      <th>2</th>\n",
       "      <td>0.035987</td>\n",
       "      <td>0.022789</td>\n",
       "      <td>0.049225</td>\n",
       "      <td>0.306824</td>\n",
       "      <td>-2.352705</td>\n",
       "      <td>27.943687</td>\n",
       "      <td>(-1.176, 0.0384]</td>\n",
       "      <td>(-2.0829999999999997, 0.148]</td>\n",
       "      <td>(0.0344, 0.0751]</td>\n",
       "    </tr>\n",
       "    <tr>\n",
       "      <th>3</th>\n",
       "      <td>0.036443</td>\n",
       "      <td>0.217172</td>\n",
       "      <td>0.050217</td>\n",
       "      <td>0.580841</td>\n",
       "      <td>-2.250978</td>\n",
       "      <td>27.700130</td>\n",
       "      <td>(-1.176, 0.0384]</td>\n",
       "      <td>(0.148, 0.558]</td>\n",
       "      <td>(0.0344, 0.0751]</td>\n",
       "    </tr>\n",
       "    <tr>\n",
       "      <th>4</th>\n",
       "      <td>0.040786</td>\n",
       "      <td>0.411542</td>\n",
       "      <td>0.045673</td>\n",
       "      <td>0.954376</td>\n",
       "      <td>-2.268849</td>\n",
       "      <td>27.737034</td>\n",
       "      <td>(0.0384, 0.354]</td>\n",
       "      <td>(0.148, 0.558]</td>\n",
       "      <td>(0.0344, 0.0751]</td>\n",
       "    </tr>\n",
       "  </tbody>\n",
       "</table>\n",
       "</div>"
      ],
      "text/plain": [
       "   position  velocity     theta  position_sal  velocity_sal  theta_sal  \\\n",
       "0  0.038941  0.024001  0.042198      0.312982     -2.373603  28.006554   \n",
       "1  0.039421 -0.171700  0.042655      0.265814     -2.531295  27.141556   \n",
       "2  0.035987  0.022789  0.049225      0.306824     -2.352705  27.943687   \n",
       "3  0.036443  0.217172  0.050217      0.580841     -2.250978  27.700130   \n",
       "4  0.040786  0.411542  0.045673      0.954376     -2.268849  27.737034   \n",
       "\n",
       "       position_bin                  velocity_bin         theta_bin  \n",
       "0   (0.0384, 0.354]  (-2.0829999999999997, 0.148]  (0.0344, 0.0751]  \n",
       "1   (0.0384, 0.354]  (-2.0829999999999997, 0.148]  (0.0344, 0.0751]  \n",
       "2  (-1.176, 0.0384]  (-2.0829999999999997, 0.148]  (0.0344, 0.0751]  \n",
       "3  (-1.176, 0.0384]                (0.148, 0.558]  (0.0344, 0.0751]  \n",
       "4   (0.0384, 0.354]                (0.148, 0.558]  (0.0344, 0.0751]  "
      ]
     },
     "execution_count": 15,
     "metadata": {},
     "output_type": "execute_result"
    }
   ],
   "source": [
    "cols = ['position', 'velocity', 'theta']\n",
    "df = pd.DataFrame(\n",
    "    torch.concat([all_states, delta_out], dim=1).numpy(),\n",
    "    columns=cols + [x + \"_sal\" for x in cols],\n",
    ")\n",
    "\n",
    "for col in cols:\n",
    "    df[col+'_bin'] = pd.qcut(df[col], 4)\n",
    "\n",
    "\n",
    "df.head()"
   ]
  },
  {
   "cell_type": "markdown",
   "metadata": {},
   "source": [
    "Note that actor output is logit(action=1) (before sigmoid)\n",
    "\n",
    "- Position:  \n",
    "   +ve perturbation = moving cart to right (keeping theta, omega, velocity constant)  \n",
    "   Negative saliency in all the plots => actor wants to keep the cart at the center by moving it left\n",
    "\n",
    "- Velocity is hard to explain on saliency\n",
    "\n",
    "- For theta and omega:\n",
    " saliency is always positive\n",
    "    - if theta is increases then actor wants to move cart to right\n",
    "    - if theta decreases (large negative value) then actor wants to move cart to left\n",
    "\n",
    "\n"
   ]
  },
  {
   "cell_type": "code",
   "execution_count": 16,
   "metadata": {},
   "outputs": [
    {
     "data": {
      "text/plain": [
       "['position',\n",
       " 'velocity',\n",
       " 'theta',\n",
       " 'position_sal',\n",
       " 'velocity_sal',\n",
       " 'theta_sal',\n",
       " 'position_bin',\n",
       " 'velocity_bin',\n",
       " 'theta_bin']"
      ]
     },
     "execution_count": 16,
     "metadata": {},
     "output_type": "execute_result"
    }
   ],
   "source": [
    "list(df)"
   ]
  },
  {
   "cell_type": "code",
   "execution_count": 17,
   "metadata": {},
   "outputs": [
    {
     "data": {
      "text/html": [
       "<div>\n",
       "<style scoped>\n",
       "    .dataframe tbody tr th:only-of-type {\n",
       "        vertical-align: middle;\n",
       "    }\n",
       "\n",
       "    .dataframe tbody tr th {\n",
       "        vertical-align: top;\n",
       "    }\n",
       "\n",
       "    .dataframe thead th {\n",
       "        text-align: right;\n",
       "    }\n",
       "</style>\n",
       "<table border=\"1\" class=\"dataframe\">\n",
       "  <thead>\n",
       "    <tr style=\"text-align: right;\">\n",
       "      <th></th>\n",
       "      <th>feature</th>\n",
       "      <th>saliency_mean</th>\n",
       "    </tr>\n",
       "  </thead>\n",
       "  <tbody>\n",
       "    <tr>\n",
       "      <th>0</th>\n",
       "      <td>position_sal</td>\n",
       "      <td>1.714980</td>\n",
       "    </tr>\n",
       "    <tr>\n",
       "      <th>1</th>\n",
       "      <td>velocity_sal</td>\n",
       "      <td>-1.596510</td>\n",
       "    </tr>\n",
       "    <tr>\n",
       "      <th>2</th>\n",
       "      <td>theta_sal</td>\n",
       "      <td>26.299774</td>\n",
       "    </tr>\n",
       "  </tbody>\n",
       "</table>\n",
       "</div>"
      ],
      "text/plain": [
       "        feature  saliency_mean\n",
       "0  position_sal       1.714980\n",
       "1  velocity_sal      -1.596510\n",
       "2     theta_sal      26.299774"
      ]
     },
     "execution_count": 17,
     "metadata": {},
     "output_type": "execute_result"
    }
   ],
   "source": [
    "df[[\"position_sal\", \"velocity_sal\", \"theta_sal\"]].mean().reset_index().rename(columns={\n",
    "    'index': 'feature',\n",
    "    0: 'saliency_mean'\n",
    "})\n"
   ]
  },
  {
   "cell_type": "code",
   "execution_count": 19,
   "metadata": {},
   "outputs": [
    {
     "data": {
      "image/png": "[encoded data removed]",
      "text/plain": [
       "<Figure size 1728x432 with 4 Axes>"
      ]
     },
     "metadata": {
      "needs_background": "light"
     },
     "output_type": "display_data"
    },
    {
     "data": {
      "image/png": "[encoded data removed]",
      "text/plain": [
       "<Figure size 1728x432 with 4 Axes>"
      ]
     },
     "metadata": {
      "needs_background": "light"
     },
     "output_type": "display_data"
    },
    {
     "data": {
      "image/png": "[encoded data removed]",
      "text/plain": [
       "<Figure size 1728x432 with 4 Axes>"
      ]
     },
     "metadata": {
      "needs_background": "light"
     },
     "output_type": "display_data"
    }
   ],
   "source": [
    "lim_dict = {\n",
    "    'position': [-2.4, 2.4],\n",
    "    'velocity': [2.5, 5],\n",
    "    'theta': [4.5, 10],\n",
    "}\n",
    "for col in cols:\n",
    "    groups = df.groupby(col+'_bin')\n",
    "    fig, axs = plt.subplots(1, 4, figsize=(24, 6))\n",
    "    for (col_bin, group), ax in zip(groups, axs):\n",
    "        sns.histplot(data=group, x=col+'_sal', ax=ax)\n",
    "        ax.set_title(f'For {col} in {col_bin}')\n",
    "        ax.set_xlim(*lim_dict[col])\n",
    "    plt.show()"
   ]
  },
  {
   "cell_type": "code",
   "execution_count": null,
   "metadata": {},
   "outputs": [],
   "source": []
  }
 ],
 "metadata": {
  "interpreter": {
   "hash": "9d13b8b7d062e2c1ccd801eec5f1d954e98bfd12ae32d977a2ad01f940587408"
  },
  "kernelspec": {
   "display_name": "Python [conda env:pytorch4]",
   "language": "python",
   "name": "python3"
  },
  "language_info": {
   "codemirror_mode": {
    "name": "ipython",
    "version": 3
   },
   "file_extension": ".py",
   "mimetype": "text/x-python",
   "name": "python",
   "nbconvert_exporter": "python",
   "pygments_lexer": "ipython3",
   "version": "3.8.13"
  }
 },
 "nbformat": 4,
 "nbformat_minor": 2
}
