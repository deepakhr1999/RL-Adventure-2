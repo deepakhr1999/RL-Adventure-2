{
 "cells": [
  {
   "cell_type": "code",
   "execution_count": 1,
   "metadata": {},
   "outputs": [],
   "source": [
    "import gym\n",
    "import numpy as np\n",
    "\n",
    "import torch\n",
    "import torch.nn as nn\n",
    "import torch.nn.functional as F\n",
    "from torch.distributions import Categorical"
   ]
  },
  {
   "cell_type": "markdown",
   "metadata": {},
   "source": [
    "<h2>Use CUDA</h2>"
   ]
  },
  {
   "cell_type": "code",
   "execution_count": 2,
   "metadata": {},
   "outputs": [],
   "source": [
    "from IPython.display import clear_output\n",
    "import matplotlib.pyplot as plt\n",
    "import seaborn as sns\n",
    "sns.set()"
   ]
  },
  {
   "cell_type": "code",
   "execution_count": 3,
   "metadata": {},
   "outputs": [],
   "source": [
    "# use_cuda = torch.cuda.is_available()\n",
    "use_cuda = False\n",
    "device   = torch.device(\"cuda\" if use_cuda else \"cpu\")"
   ]
  },
  {
   "cell_type": "markdown",
   "metadata": {},
   "source": [
    "<h2>Create Environments</h2>"
   ]
  },
  {
   "cell_type": "code",
   "execution_count": 4,
   "metadata": {},
   "outputs": [],
   "source": [
    "from common import SubprocVecEnv\n",
    "\n",
    "num_envs = 16\n",
    "env_name = \"CartPole-v0\"\n",
    "\n",
    "def make_env():\n",
    "    def _thunk():\n",
    "        env = gym.make(env_name)\n",
    "        return env\n",
    "\n",
    "    return _thunk\n",
    "\n",
    "envs = [make_env() for i in range(num_envs)]\n",
    "envs = SubprocVecEnv(envs)\n",
    "\n",
    "env = gym.make(env_name)"
   ]
  },
  {
   "cell_type": "markdown",
   "metadata": {},
   "source": [
    "<h2>Neural Network</h2>"
   ]
  },
  {
   "cell_type": "code",
   "execution_count": 5,
   "metadata": {},
   "outputs": [],
   "source": [
    "class ActorCritic(nn.Module):\n",
    "    def __init__(self, num_inputs, num_outputs, hidden_size, std=0.0):\n",
    "        super(ActorCritic, self).__init__()\n",
    "        \n",
    "        self.critic = nn.Sequential(\n",
    "            nn.Linear(num_inputs, hidden_size),\n",
    "            nn.ReLU(),\n",
    "            nn.Linear(hidden_size, 1)\n",
    "        )\n",
    "        \n",
    "        self.actor = nn.Sequential(\n",
    "            nn.Linear(num_inputs, hidden_size),\n",
    "            nn.ReLU(),\n",
    "            nn.Linear(hidden_size, num_outputs),\n",
    "        )\n",
    "        \n",
    "    def forward(self, x):\n",
    "        value = self.critic(x)\n",
    "        probs = F.softmax(self.actor(x))\n",
    "        dist  = Categorical(probs)\n",
    "        return dist, value\n",
    "\n",
    "    def get_logits(self, x):\n",
    "        logits = self.actor(x)\n",
    "        return logits[:, 1] - logits[:, 0]"
   ]
  },
  {
   "cell_type": "code",
   "execution_count": 6,
   "metadata": {},
   "outputs": [],
   "source": [
    "def plot(frame_idx, rewards):\n",
    "    clear_output(True)\n",
    "    plt.figure(figsize=(20,5))\n",
    "    plt.subplot(131)\n",
    "    plt.title('frame %s. reward: %s' % (frame_idx, rewards[-1]))\n",
    "    plt.plot(rewards)\n",
    "    plt.show()\n",
    "    \n",
    "def test_env(vis=False):\n",
    "    state = env.reset()\n",
    "    if vis: env.render()\n",
    "    done = False\n",
    "    total_reward = 0\n",
    "    all_states = []\n",
    "    all_actions = []\n",
    "    while not done:\n",
    "        state = torch.FloatTensor(state).unsqueeze(0).to(device)\n",
    "        all_states.append(state)\n",
    "\n",
    "        dist, _ = model(state)\n",
    "        action = dist.sample().cpu().numpy()[0]\n",
    "        all_actions.append(action)\n",
    "\n",
    "        next_state, reward, done, _ = env.step(action)\n",
    "        state = next_state\n",
    "        if vis:\n",
    "            env.render()\n",
    "        total_reward += reward\n",
    "    return total_reward, all_states, all_actions"
   ]
  },
  {
   "cell_type": "markdown",
   "metadata": {},
   "source": [
    "<h1>A2C: Synchronous Advantage Actor Critic</h1>\n",
    "<h3><a href=\"https://blog.openai.com/baselines-acktr-a2c/#a2canda3c\">OpenAI Blog:</a></h3>\n",
    "<p>The Asynchronous Advantage Actor Critic method (A3C) has been very influential since the paper was published. The algorithm combines a few key ideas:</p>\n",
    "\n",
    "<ul>\n",
    "    <li>An updating scheme that operates on fixed-length segments of experience (say, 20 timesteps) and uses these segments to compute estimators of the returns and advantage function.</li>\n",
    "    <li>Architectures that share layers between the policy and value function.</li>\n",
    "    <li>Asynchronous updates.</li>\n",
    "</ul>\n",
    "\n",
    "<p>After reading the paper, AI researchers wondered whether the asynchrony led to improved performance (e.g. “perhaps the added noise would provide some regularization or exploration?“), or if it was just an implementation detail that allowed for faster training with a CPU-based implementation.</p>\n",
    "\n",
    "<p>As an alternative to the asynchronous implementation, researchers found you can write a synchronous, deterministic implementation that waits for each actor to finish its segment of experience before performing an update, averaging over all of the actors. One advantage of this method is that it can more effectively use of GPUs, which perform best with large batch sizes. This algorithm is naturally called A2C, short for advantage actor critic. (This term has been used in several papers.)</p>"
   ]
  },
  {
   "cell_type": "code",
   "execution_count": 7,
   "metadata": {},
   "outputs": [],
   "source": [
    "def compute_returns(next_value, rewards, masks, gamma=0.99):\n",
    "    R = next_value\n",
    "    returns = []\n",
    "    for step in reversed(range(len(rewards))):\n",
    "        R = rewards[step] + gamma * R * masks[step]\n",
    "        returns.insert(0, R)\n",
    "    return returns"
   ]
  },
  {
   "cell_type": "code",
   "execution_count": 8,
   "metadata": {},
   "outputs": [
    {
     "data": {
      "text/plain": [
       "<All keys matched successfully>"
      ]
     },
     "execution_count": 8,
     "metadata": {},
     "output_type": "execute_result"
    }
   ],
   "source": [
    "num_inputs  = envs.observation_space.shape[0]\n",
    "num_outputs = envs.action_space.n\n",
    "\n",
    "#Hyper params:\n",
    "hidden_size = 256\n",
    "lr          = 3e-4\n",
    "num_steps   = 5\n",
    "\n",
    "model = ActorCritic(num_inputs, num_outputs, hidden_size).to(device)\n",
    "model.load_state_dict(torch.load('cartpole.dqn.pt', map_location='cpu'))"
   ]
  },
  {
   "cell_type": "code",
   "execution_count": 37,
   "metadata": {},
   "outputs": [
    {
     "name": "stderr",
     "output_type": "stream",
     "text": [
      "/tmp/ipykernel_4225/1861009698.py:19: UserWarning: Implicit dimension choice for softmax has been deprecated. Change the call to include dim=X as an argument.\n",
      "  probs = F.softmax(self.actor(x))\n"
     ]
    },
    {
     "data": {
      "text/plain": [
       "(200.0,\n",
       " [tensor([[ 0.0131, -0.0351, -0.0108, -0.0172]]),\n",
       "  tensor([[ 0.0124,  0.1602, -0.0111, -0.3133]]),\n",
       "  tensor([[ 0.0156, -0.0348, -0.0174, -0.0241]]),\n",
       "  tensor([[ 0.0149,  0.1606, -0.0179, -0.3222]]),\n",
       "  tensor([[ 0.0181, -0.0343, -0.0243, -0.0352]]),\n",
       "  tensor([[ 0.0174,  0.1612, -0.0250, -0.3355]]),\n",
       "  tensor([[ 0.0206, -0.0336, -0.0317, -0.0508]]),\n",
       "  tensor([[ 0.0200,  0.1620, -0.0327, -0.3533]]),\n",
       "  tensor([[ 0.0232,  0.3576, -0.0398, -0.6561]]),\n",
       "  tensor([[ 0.0303,  0.1630, -0.0529, -0.3762]]),\n",
       "  tensor([[ 0.0336, -0.0313, -0.0604, -0.1007]]),\n",
       "  tensor([[ 0.0330,  0.1646, -0.0625, -0.4118]]),\n",
       "  tensor([[ 0.0363, -0.0296, -0.0707, -0.1395]]),\n",
       "  tensor([[ 0.0357, -0.2236, -0.0735,  0.1301]]),\n",
       "  tensor([[ 0.0312, -0.0275, -0.0709, -0.1848]]),\n",
       "  tensor([[ 0.0307,  0.1686, -0.0746, -0.4990]]),\n",
       "  tensor([[ 0.0340, -0.0254, -0.0846, -0.2307]]),\n",
       "  tensor([[ 0.0335, -0.2193, -0.0892,  0.0341]]),\n",
       "  tensor([[ 0.0291, -0.0230, -0.0885, -0.2853]]),\n",
       "  tensor([[ 0.0287, -0.2167, -0.0942, -0.0218]]),\n",
       "  tensor([[ 0.0243, -0.0204, -0.0946, -0.3426]]),\n",
       "  tensor([[ 0.0239, -0.2140, -0.1015, -0.0812]]),\n",
       "  tensor([[ 0.0197, -0.4076, -0.1031,  0.1778]]),\n",
       "  tensor([[ 0.0115, -0.6011, -0.0995,  0.4363]]),\n",
       "  tensor([[-0.0005, -0.4047, -0.0908,  0.1139]]),\n",
       "  tensor([[-0.0086, -0.5984, -0.0885,  0.3767]]),\n",
       "  tensor([[-0.0206, -0.4022, -0.0810,  0.0574]]),\n",
       "  tensor([[-0.0286, -0.2060, -0.0799, -0.2597]]),\n",
       "  tensor([[-0.0327, -0.3999, -0.0851,  0.0068]]),\n",
       "  tensor([[-0.0407, -0.5937, -0.0849,  0.2715]]),\n",
       "  tensor([[-0.0526, -0.3975, -0.0795, -0.0468]]),\n",
       "  tensor([[-0.0606, -0.5913, -0.0804,  0.2198]]),\n",
       "  tensor([[-0.0724, -0.3952, -0.0760, -0.0971]]),\n",
       "  tensor([[-0.0803, -0.1990, -0.0780, -0.4128]]),\n",
       "  tensor([[-0.0843, -0.3930, -0.0862, -0.1456]]),\n",
       "  tensor([[-0.0921, -0.5868, -0.0891,  0.1186]]),\n",
       "  tensor([[-0.1039, -0.3905, -0.0868, -0.2008]]),\n",
       "  tensor([[-0.1117, -0.5843, -0.0908,  0.0633]]),\n",
       "  tensor([[-0.1234, -0.3880, -0.0895, -0.2566]]),\n",
       "  tensor([[-0.1311, -0.5817, -0.0946,  0.0066]]),\n",
       "  tensor([[-0.1428, -0.7754, -0.0945,  0.2680]]),\n",
       "  tensor([[-0.1583, -0.9690, -0.0892,  0.5294]]),\n",
       "  tensor([[-0.1776, -1.1628, -0.0786,  0.7927]]),\n",
       "  tensor([[-0.2009, -0.9667, -0.0627,  0.4764]]),\n",
       "  tensor([[-0.2202, -0.7707, -0.0532,  0.1646]]),\n",
       "  tensor([[-0.2356, -0.5749, -0.0499, -0.1443]]),\n",
       "  tensor([[-0.2471, -0.7693, -0.0528,  0.1322]]),\n",
       "  tensor([[-0.2625, -0.9636, -0.0501,  0.4078]]),\n",
       "  tensor([[-0.2818, -1.1580, -0.0420,  0.6842]]),\n",
       "  tensor([[-0.3050, -0.9623, -0.0283,  0.3786]]),\n",
       "  tensor([[-0.3242, -0.7668, -0.0207,  0.0772]]),\n",
       "  tensor([[-0.3395, -0.5714, -0.0192, -0.2220]]),\n",
       "  tensor([[-0.3510, -0.7662, -0.0236,  0.0646]]),\n",
       "  tensor([[-0.3663, -0.9610, -0.0223,  0.3497]]),\n",
       "  tensor([[-0.3855, -0.7655, -0.0153,  0.0501]]),\n",
       "  tensor([[-0.4008, -0.9604, -0.0143,  0.3379]]),\n",
       "  tensor([[-0.4200, -1.1554, -0.0076,  0.6260]]),\n",
       "  tensor([[-0.4431, -0.9601,  0.0050,  0.3310]]),\n",
       "  tensor([[-0.4623, -0.7651,  0.0116,  0.0399]]),\n",
       "  tensor([[-0.4776, -0.5701,  0.0124, -0.2491]]),\n",
       "  tensor([[-0.4890, -0.7654,  0.0074,  0.0474]]),\n",
       "  tensor([[-0.5044, -0.9606,  0.0083,  0.3424]]),\n",
       "  tensor([[-0.5236, -1.1559,  0.0152,  0.6377]]),\n",
       "  tensor([[-0.5467, -0.9610,  0.0279,  0.3498]]),\n",
       "  tensor([[-0.5659, -0.7663,  0.0349,  0.0661]]),\n",
       "  tensor([[-0.5812, -0.5717,  0.0363, -0.2154]]),\n",
       "  tensor([[-0.5927, -0.7673,  0.0319,  0.0885]]),\n",
       "  tensor([[-0.6080, -0.5726,  0.0337, -0.1939]]),\n",
       "  tensor([[-0.6195, -0.7682,  0.0298,  0.1092]]),\n",
       "  tensor([[-0.6348, -0.5735,  0.0320, -0.1739]]),\n",
       "  tensor([[-0.6463, -0.7691,  0.0285,  0.1287]]),\n",
       "  tensor([[-0.6617, -0.5744,  0.0311, -0.1548]]),\n",
       "  tensor([[-0.6732, -0.7700,  0.0280,  0.1475]]),\n",
       "  tensor([[-0.6886, -0.5752,  0.0310, -0.1362]]),\n",
       "  tensor([[-0.7001, -0.7708,  0.0283,  0.1661]]),\n",
       "  tensor([[-0.7155, -0.5761,  0.0316, -0.1175]]),\n",
       "  tensor([[-0.7270, -0.3814,  0.0292, -0.4001]]),\n",
       "  tensor([[-0.7346, -0.5770,  0.0212, -0.0983]]),\n",
       "  tensor([[-0.7462, -0.3821,  0.0193, -0.3843]]),\n",
       "  tensor([[-0.7538, -0.5775,  0.0116, -0.0856]]),\n",
       "  tensor([[-0.7654, -0.7728,  0.0099,  0.2107]]),\n",
       "  tensor([[-0.7808, -0.5778,  0.0141, -0.0788]]),\n",
       "  tensor([[-0.7924, -0.3829,  0.0125, -0.3670]]),\n",
       "  tensor([[-0.8000, -0.1880,  0.0052, -0.6557]]),\n",
       "  tensor([[-0.8038, -0.3832, -0.0080, -0.3614]]),\n",
       "  tensor([[-0.8115, -0.5782, -0.0152, -0.0713]]),\n",
       "  tensor([[-0.8230, -0.3828, -0.0166, -0.3687]]),\n",
       "  tensor([[-0.8307, -0.5777, -0.0240, -0.0813]]),\n",
       "  tensor([[-0.8422, -0.3823, -0.0256, -0.3815]]),\n",
       "  tensor([[-0.8499, -0.5770, -0.0332, -0.0970]]),\n",
       "  tensor([[-0.8614, -0.7717, -0.0352,  0.1850]]),\n",
       "  tensor([[-0.8769, -0.9663, -0.0315,  0.4664]]),\n",
       "  tensor([[-0.8962, -0.7707, -0.0222,  0.1640]]),\n",
       "  tensor([[-0.9116, -0.5753, -0.0189, -0.1356]]),\n",
       "  tensor([[-0.9231, -0.7701, -0.0216,  0.1511]]),\n",
       "  tensor([[-0.9385, -0.5747, -0.0186, -0.1484]]),\n",
       "  tensor([[-0.9500, -0.3793, -0.0215, -0.4468]]),\n",
       "  tensor([[-0.9576, -0.5741, -0.0305, -0.1610]]),\n",
       "  tensor([[-0.9691, -0.7688, -0.0337,  0.1219]]),\n",
       "  tensor([[-0.9844, -0.5732, -0.0313, -0.1812]]),\n",
       "  tensor([[-0.9959, -0.3776, -0.0349, -0.4836]]),\n",
       "  tensor([[-1.0035, -0.5723, -0.0445, -0.2021]]),\n",
       "  tensor([[-1.0149, -0.3765, -0.0486, -0.5085]]),\n",
       "  tensor([[-1.0224, -0.5709, -0.0588, -0.2315]]),\n",
       "  tensor([[-1.0339, -0.7652, -0.0634,  0.0421]]),\n",
       "  tensor([[-1.0492, -0.5692, -0.0626, -0.2699]]),\n",
       "  tensor([[-1.0605, -0.3732, -0.0679, -0.5817]]),\n",
       "  tensor([[-1.0680, -0.5674, -0.0796, -0.3111]]),\n",
       "  tensor([[-1.0794, -0.7613, -0.0858, -0.0446]]),\n",
       "  tensor([[-1.0946, -0.9550, -0.0867,  0.2198]]),\n",
       "  tensor([[-1.1137, -0.7588, -0.0823, -0.0989]]),\n",
       "  tensor([[-1.1289, -0.9527, -0.0843,  0.1667]]),\n",
       "  tensor([[-1.1479, -1.1465, -0.0809,  0.4317]]),\n",
       "  tensor([[-1.1708, -1.3404, -0.0723,  0.6978]]),\n",
       "  tensor([[-1.1976, -1.5344, -0.0584,  0.9669]]),\n",
       "  tensor([[-1.2283, -1.3386, -0.0390,  0.6564]]),\n",
       "  tensor([[-1.2551, -1.5331, -0.0259,  0.9366]]),\n",
       "  tensor([[-1.2858, -1.3377, -0.0072,  0.6359]]),\n",
       "  tensor([[-1.3125, -1.5327,  0.0056,  0.9263]]),\n",
       "  tensor([[-1.3432, -1.3376,  0.0241,  0.6354]]),\n",
       "  tensor([[-1.3699, -1.1428,  0.0368,  0.3504]]),\n",
       "  tensor([[-1.3928, -1.3385,  0.0438,  0.6544]]),\n",
       "  tensor([[-1.4196, -1.1440,  0.0569,  0.3759]]),\n",
       "  tensor([[-1.4424, -0.9497,  0.0644,  0.1017]]),\n",
       "  tensor([[-1.4614, -1.1457,  0.0664,  0.4139]]),\n",
       "  tensor([[-1.4843, -1.3417,  0.0747,  0.7268]]),\n",
       "  tensor([[-1.5112, -1.1477,  0.0893,  0.4585]]),\n",
       "  tensor([[-1.5341, -0.9539,  0.0984,  0.1953]]),\n",
       "  tensor([[-1.5532, -1.1503,  0.1023,  0.5173]]),\n",
       "  tensor([[-1.5762, -0.9568,  0.1127,  0.2586]]),\n",
       "  tensor([[-1.5953, -0.7634,  0.1179,  0.0034]]),\n",
       "  tensor([[-1.6106, -0.5702,  0.1179, -0.2499]]),\n",
       "  tensor([[-1.6220, -0.7668,  0.1129,  0.0776]]),\n",
       "  tensor([[-1.6374, -0.5734,  0.1145, -0.1775]]),\n",
       "  tensor([[-1.6488, -0.7700,  0.1109,  0.1490]]),\n",
       "  tensor([[-1.6642, -0.9665,  0.1139,  0.4745]]),\n",
       "  tensor([[-1.6836, -0.7732,  0.1234,  0.2198]]),\n",
       "  tensor([[-1.6990, -0.5800,  0.1278, -0.0315]]),\n",
       "  tensor([[-1.7106, -0.7767,  0.1272,  0.2986]]),\n",
       "  tensor([[-1.7262, -0.9734,  0.1331,  0.6285]]),\n",
       "  tensor([[-1.7456, -0.7803,  0.1457,  0.3805]]),\n",
       "  tensor([[-1.7612, -0.5876,  0.1533,  0.1371]]),\n",
       "  tensor([[-1.7730, -0.3949,  0.1561, -0.1035]]),\n",
       "  tensor([[-1.7809, -0.2023,  0.1540, -0.3432]]),\n",
       "  tensor([[-1.7849, -0.0097,  0.1471, -0.5837]]),\n",
       "  tensor([[-1.7851,  0.1831,  0.1354, -0.8266]]),\n",
       "  tensor([[-1.7815, -0.0136,  0.1189, -0.4946]]),\n",
       "  tensor([[-1.7817,  0.1796,  0.1090, -0.7476]]),\n",
       "  tensor([[-1.7781, -0.0168,  0.0941, -0.4226]]),\n",
       "  tensor([[-1.7785,  0.1769,  0.0856, -0.6843]]),\n",
       "  tensor([[-1.7749, -0.0193,  0.0719, -0.3659]]),\n",
       "  tensor([[-1.7753,  0.1747,  0.0646, -0.6350]]),\n",
       "  tensor([[-1.7718,  0.3689,  0.0519, -0.9067]]),\n",
       "  tensor([[-1.7644,  0.1731,  0.0338, -0.5982]]),\n",
       "  tensor([[-1.7610, -0.0225,  0.0218, -0.2950]]),\n",
       "  tensor([[-1.7614, -0.2179,  0.0159,  0.0044]]),\n",
       "  tensor([[-1.7658, -0.0230,  0.0160, -0.2832]]),\n",
       "  tensor([[-1.7663,  0.1719,  0.0103, -0.5708]]),\n",
       "  tensor([[-1.7628e+00,  3.6684e-01, -1.0705e-03, -8.6017e-01]]),\n",
       "  tensor([[-1.7555,  0.1717, -0.0183, -0.5678]]),\n",
       "  tensor([[-1.7520, -0.0231, -0.0296, -0.2809]]),\n",
       "  tensor([[-1.7525,  0.1724, -0.0352, -0.5828]]),\n",
       "  tensor([[-1.7491, -0.0222, -0.0469, -0.3015]]),\n",
       "  tensor([[-1.7495,  0.1735, -0.0529, -0.6086]]),\n",
       "  tensor([[-1.7460, -0.0208, -0.0651, -0.3330]]),\n",
       "  tensor([[-1.7464, -0.2149, -0.0718, -0.0615]]),\n",
       "  tensor([[-1.7507, -0.4090, -0.0730,  0.2077]]),\n",
       "  tensor([[-1.7589, -0.2129, -0.0688, -0.1071]]),\n",
       "  tensor([[-1.7632, -0.0168, -0.0710, -0.4207]]),\n",
       "  tensor([[-1.7635, -0.2109, -0.0794, -0.1512]]),\n",
       "  tensor([[-1.7677, -0.4048, -0.0824,  0.1154]]),\n",
       "  tensor([[-1.7758, -0.2086, -0.0801, -0.2021]]),\n",
       "  tensor([[-1.7800, -0.4025, -0.0842,  0.0643]]),\n",
       "  tensor([[-1.7881, -0.5963, -0.0829,  0.3293]]),\n",
       "  tensor([[-1.8000, -0.4001, -0.0763,  0.0116]]),\n",
       "  tensor([[-1.8080, -0.5940, -0.0761,  0.2793]]),\n",
       "  tensor([[-1.8199, -0.3979, -0.0705, -0.0364]]),\n",
       "  tensor([[-1.8278, -0.2019, -0.0712, -0.3504]]),\n",
       "  tensor([[-1.8319, -0.3959, -0.0782, -0.0810]]),\n",
       "  tensor([[-1.8398, -0.5898, -0.0798,  0.1860]]),\n",
       "  tensor([[-1.8516, -0.3937, -0.0761, -0.1308]]),\n",
       "  tensor([[-1.8594, -0.1975, -0.0787, -0.4464]]),\n",
       "  tensor([[-1.8634e+00, -1.3914e-03, -8.7651e-02, -7.6287e-01]]),\n",
       "  tensor([[-1.8634, -0.1952, -0.1029, -0.4990]]),\n",
       "  tensor([[-1.8673, -0.3887, -0.1129, -0.2404]]),\n",
       "  tensor([[-1.8751, -0.5821, -0.1177,  0.0146]]),\n",
       "  tensor([[-1.8867, -0.3855, -0.1174, -0.3128]]),\n",
       "  tensor([[-1.8945, -0.5788, -0.1237, -0.0593]]),\n",
       "  tensor([[-1.9060, -0.7719, -0.1248,  0.1920]]),\n",
       "  tensor([[-1.9215, -0.5752, -0.1210, -0.1374]]),\n",
       "  tensor([[-1.9330, -0.7684, -0.1238,  0.1148]]),\n",
       "  tensor([[-1.9483, -0.9616, -0.1215,  0.3661]]),\n",
       "  tensor([[-1.9676, -0.7650, -0.1141,  0.0377]]),\n",
       "  tensor([[-1.9829, -0.5684, -0.1134, -0.2887]]),\n",
       "  tensor([[-1.9942, -0.3719, -0.1192, -0.6149]]),\n",
       "  tensor([[-2.0017, -0.5651, -0.1315, -0.3620]]),\n",
       "  tensor([[-2.0130, -0.7582, -0.1387, -0.1135]]),\n",
       "  tensor([[-2.0281, -0.9511, -0.1410,  0.1324]]),\n",
       "  tensor([[-2.0472, -1.1439, -0.1383,  0.3775]]),\n",
       "  tensor([[-2.0700, -1.3368, -0.1308,  0.6236]])],\n",
       " [1,\n",
       "  0,\n",
       "  1,\n",
       "  0,\n",
       "  1,\n",
       "  0,\n",
       "  1,\n",
       "  1,\n",
       "  0,\n",
       "  0,\n",
       "  1,\n",
       "  0,\n",
       "  0,\n",
       "  1,\n",
       "  1,\n",
       "  0,\n",
       "  0,\n",
       "  1,\n",
       "  0,\n",
       "  1,\n",
       "  0,\n",
       "  0,\n",
       "  0,\n",
       "  1,\n",
       "  0,\n",
       "  1,\n",
       "  1,\n",
       "  0,\n",
       "  0,\n",
       "  1,\n",
       "  0,\n",
       "  1,\n",
       "  1,\n",
       "  0,\n",
       "  0,\n",
       "  1,\n",
       "  0,\n",
       "  1,\n",
       "  0,\n",
       "  0,\n",
       "  0,\n",
       "  0,\n",
       "  1,\n",
       "  1,\n",
       "  1,\n",
       "  0,\n",
       "  0,\n",
       "  0,\n",
       "  1,\n",
       "  1,\n",
       "  1,\n",
       "  0,\n",
       "  0,\n",
       "  1,\n",
       "  0,\n",
       "  0,\n",
       "  1,\n",
       "  1,\n",
       "  1,\n",
       "  0,\n",
       "  0,\n",
       "  0,\n",
       "  1,\n",
       "  1,\n",
       "  1,\n",
       "  0,\n",
       "  1,\n",
       "  0,\n",
       "  1,\n",
       "  0,\n",
       "  1,\n",
       "  0,\n",
       "  1,\n",
       "  0,\n",
       "  1,\n",
       "  1,\n",
       "  0,\n",
       "  1,\n",
       "  0,\n",
       "  0,\n",
       "  1,\n",
       "  1,\n",
       "  1,\n",
       "  0,\n",
       "  0,\n",
       "  1,\n",
       "  0,\n",
       "  1,\n",
       "  0,\n",
       "  0,\n",
       "  0,\n",
       "  1,\n",
       "  1,\n",
       "  0,\n",
       "  1,\n",
       "  1,\n",
       "  0,\n",
       "  0,\n",
       "  1,\n",
       "  1,\n",
       "  0,\n",
       "  1,\n",
       "  0,\n",
       "  0,\n",
       "  1,\n",
       "  1,\n",
       "  0,\n",
       "  0,\n",
       "  0,\n",
       "  1,\n",
       "  0,\n",
       "  0,\n",
       "  0,\n",
       "  0,\n",
       "  1,\n",
       "  0,\n",
       "  1,\n",
       "  0,\n",
       "  1,\n",
       "  1,\n",
       "  0,\n",
       "  1,\n",
       "  1,\n",
       "  0,\n",
       "  0,\n",
       "  1,\n",
       "  1,\n",
       "  0,\n",
       "  1,\n",
       "  1,\n",
       "  1,\n",
       "  0,\n",
       "  1,\n",
       "  0,\n",
       "  0,\n",
       "  1,\n",
       "  1,\n",
       "  0,\n",
       "  0,\n",
       "  1,\n",
       "  1,\n",
       "  1,\n",
       "  1,\n",
       "  1,\n",
       "  1,\n",
       "  0,\n",
       "  1,\n",
       "  0,\n",
       "  1,\n",
       "  0,\n",
       "  1,\n",
       "  1,\n",
       "  0,\n",
       "  0,\n",
       "  0,\n",
       "  1,\n",
       "  1,\n",
       "  1,\n",
       "  0,\n",
       "  0,\n",
       "  1,\n",
       "  0,\n",
       "  1,\n",
       "  0,\n",
       "  0,\n",
       "  0,\n",
       "  1,\n",
       "  1,\n",
       "  0,\n",
       "  0,\n",
       "  1,\n",
       "  0,\n",
       "  0,\n",
       "  1,\n",
       "  0,\n",
       "  1,\n",
       "  1,\n",
       "  0,\n",
       "  0,\n",
       "  1,\n",
       "  1,\n",
       "  1,\n",
       "  0,\n",
       "  0,\n",
       "  0,\n",
       "  1,\n",
       "  0,\n",
       "  0,\n",
       "  1,\n",
       "  0,\n",
       "  0,\n",
       "  1,\n",
       "  1,\n",
       "  1,\n",
       "  0,\n",
       "  0,\n",
       "  0,\n",
       "  0,\n",
       "  0,\n",
       "  1])"
      ]
     },
     "execution_count": 37,
     "metadata": {},
     "output_type": "execute_result"
    }
   ],
   "source": [
    "test_env(True)"
   ]
  },
  {
   "cell_type": "code",
   "execution_count": 9,
   "metadata": {},
   "outputs": [],
   "source": [
    "max_frames   = 20000\n",
    "frame_idx    = 0\n",
    "test_rewards = []"
   ]
  },
  {
   "cell_type": "code",
   "execution_count": 31,
   "metadata": {},
   "outputs": [
    {
     "data": {
      "application/vnd.jupyter.widget-view+json": {
       "model_id": "59f9894e0417413ba42e559a1880296e",
       "version_major": 2,
       "version_minor": 0
      },
      "text/plain": [
       "  0%|          | 0/1000 [00:00<?, ?it/s]"
      ]
     },
     "metadata": {},
     "output_type": "display_data"
    },
    {
     "name": "stderr",
     "output_type": "stream",
     "text": [
      "/tmp/ipykernel_4225/1861009698.py:19: UserWarning: Implicit dimension choice for softmax has been deprecated. Change the call to include dim=X as an argument.\n",
      "  probs = F.softmax(self.actor(x))\n"
     ]
    },
    {
     "data": {
      "text/plain": [
       "torch.Size([187225, 4])"
      ]
     },
     "execution_count": 31,
     "metadata": {},
     "output_type": "execute_result"
    }
   ],
   "source": [
    "all_rewards, all_states, all_actions = [], [], []\n",
    "from tqdm.notebook import tqdm\n",
    "for _ in tqdm(range(1000)):\n",
    "    # roll out level\n",
    "    reward, states, actions = test_env(False)\n",
    "\n",
    "    all_rewards.append(reward)\n",
    "    all_states.extend(states)\n",
    "    all_actions.extend(actions)\n",
    "    \n",
    "all_states = torch.concat(all_states, dim=0)\n",
    "all_states.shape"
   ]
  },
  {
   "cell_type": "markdown",
   "metadata": {},
   "source": [
    "Num | Observation | Min | Max\n",
    "---|---|---|---\n",
    "0 | Cart Position | -2.4 | 2.4\n",
    "1 | Cart Velocity | -Inf | Inf\n",
    "2 | Pole Angle | ~ -0.418 rad (-24&deg;) | ~ 0.418 rad (24&deg;)\n",
    "3 | Pole Velocity At Tip | -Inf | Inf"
   ]
  },
  {
   "cell_type": "markdown",
   "metadata": {},
   "source": []
  },
  {
   "cell_type": "code",
   "execution_count": 32,
   "metadata": {},
   "outputs": [
    {
     "data": {
      "application/vnd.jupyter.widget-view+json": {
       "model_id": "3e3aa11432854a51a193f85e95c5864c",
       "version_major": 2,
       "version_minor": 0
      },
      "text/plain": [
       "  0%|          | 0/187225 [00:00<?, ?it/s]"
      ]
     },
     "metadata": {},
     "output_type": "display_data"
    },
    {
     "data": {
      "text/plain": [
       "torch.Size([187225, 4])"
      ]
     },
     "execution_count": 32,
     "metadata": {},
     "output_type": "execute_result"
    }
   ],
   "source": [
    "class Perturber:\n",
    "    def __init__(self, std_scale=2e-2):\n",
    "        self.std_scale = std_scale\n",
    "        self.max_state = torch.tensor([2.4, 2.4, .418, 1.5])\n",
    "\n",
    "    def perturb(self, state):\n",
    "        \"\"\"\n",
    "        State has (x, v, theta, omega)\n",
    "        These values can't exceed (2.4, 2.4, 0.418, 1.5)\n",
    "        as seen from the rollouts\n",
    "\n",
    "        For each value, we look at distance to boundary\n",
    "        for x=2.3, distance to boundary is 0.1\n",
    "        perturbation for x ~ N(0, 0.1 * self.std_scale)\n",
    "        \n",
    "        for omega=-1.25, distance to boundary is 0.25\n",
    "        perturbation for omega ~ N(0, 0.2 * self.std_scale)\n",
    "        and so on\n",
    "\n",
    "        position_saliency = (model_out - model_out_for_perturbed_position) / perturbation_for_position\n",
    "        omega_saliency = (model_out - model_out_for_perturbed_omega) / perturbation_for_omega\n",
    "        and so on\n",
    "        \"\"\"\n",
    "        dist_to_left = torch.abs(state + self.max_state)\n",
    "        dist_to_right = torch.abs(self.max_state - state)\n",
    "        min_distance = torch.vstack([dist_to_left, dist_to_right]).min(0).values\n",
    "        std = min_distance * self.std_scale\n",
    "        pert = torch.distributions.normal.Normal(torch.zeros_like(state), std).sample()\n",
    "        return state.unsqueeze(0) + torch.diag_embed(pert), pert\n",
    "\n",
    "perturber = Perturber()\n",
    "delta_out = []\n",
    "with torch.no_grad():\n",
    "    for state in tqdm(all_states):\n",
    "        perturbed_states, perturbation = perturber.perturb(state)\n",
    "        \n",
    "        original_logits = model.get_logits(state.unsqueeze(0))\n",
    "        changed_logits = model.get_logits(perturbed_states)\n",
    "        delta_out.append((changed_logits - original_logits) / perturbation)\n",
    "\n",
    "        # original_probs = model.actor()[:, 0]\n",
    "        # changed_probs = model.actor(perturbed_states)[:, 0]\n",
    "        # delta_out.append((original_probs - changed_probs) / perturbation)\n",
    "\n",
    "delta_out = torch.vstack(delta_out)\n",
    "delta_out.shape"
   ]
  },
  {
   "cell_type": "markdown",
   "metadata": {},
   "source": [
    "### State vs action\n",
    "Trained 2 layer FFN (one for actor and one for critic)\n",
    "100 rollouts were made and average of 187.7 was achieved\n",
    "Each dimension of state has 2 histograms - grouped by action taken\n",
    "- position and velocity don't really seem to influence the action taken (histogram is similar)\n",
    "- model mainly uses theta and omega\n",
    "  - higher the value, more likely to push right (1)\n",
    "  - lower the value, more likely to push left (0)"
   ]
  },
  {
   "cell_type": "code",
   "execution_count": 33,
   "metadata": {},
   "outputs": [
    {
     "data": {
      "text/plain": [
       "187.225"
      ]
     },
     "execution_count": 33,
     "metadata": {},
     "output_type": "execute_result"
    }
   ],
   "source": [
    "np.mean(all_rewards)"
   ]
  },
  {
   "cell_type": "code",
   "execution_count": 34,
   "metadata": {},
   "outputs": [
    {
     "data": {
      "image/png": "[encoded data removed]",
      "text/plain": [
       "<Figure size 1440x432 with 4 Axes>"
      ]
     },
     "metadata": {
      "needs_background": "light"
     },
     "output_type": "display_data"
    }
   ],
   "source": [
    "fig, axs = plt.subplots(1, 4, figsize=(20, 6))\n",
    "names = ['position', 'velocity', 'theta', 'omega']\n",
    "for idx, ax in enumerate(axs):\n",
    "    values = all_states[:, idx].numpy()\n",
    "    sns.histplot(x=values, hue=all_actions, ax=ax)\n",
    "    ax.set_title(names[idx])\n",
    "    ax.set_xlabel(f'Values of {names[idx]}')\n",
    "    ax.set_ylabel(\"Counts for each action taken\")"
   ]
  },
  {
   "cell_type": "markdown",
   "metadata": {},
   "source": [
    "### State vs saliency"
   ]
  },
  {
   "cell_type": "code",
   "execution_count": 14,
   "metadata": {},
   "outputs": [
    {
     "data": {
      "text/html": [
       "<div>\n",
       "<style scoped>\n",
       "    .dataframe tbody tr th:only-of-type {\n",
       "        vertical-align: middle;\n",
       "    }\n",
       "\n",
       "    .dataframe tbody tr th {\n",
       "        vertical-align: top;\n",
       "    }\n",
       "\n",
       "    .dataframe thead th {\n",
       "        text-align: right;\n",
       "    }\n",
       "</style>\n",
       "<table border=\"1\" class=\"dataframe\">\n",
       "  <thead>\n",
       "    <tr style=\"text-align: right;\">\n",
       "      <th></th>\n",
       "      <th>position</th>\n",
       "      <th>velocity</th>\n",
       "      <th>theta</th>\n",
       "      <th>omega</th>\n",
       "    </tr>\n",
       "  </thead>\n",
       "  <tbody>\n",
       "    <tr>\n",
       "      <th>min</th>\n",
       "      <td>-2.399977</td>\n",
       "      <td>-2.273626</td>\n",
       "      <td>-0.209193</td>\n",
       "      <td>-1.221838</td>\n",
       "    </tr>\n",
       "    <tr>\n",
       "      <th>max</th>\n",
       "      <td>0.167414</td>\n",
       "      <td>0.808388</td>\n",
       "      <td>0.207591</td>\n",
       "      <td>1.878726</td>\n",
       "    </tr>\n",
       "  </tbody>\n",
       "</table>\n",
       "</div>"
      ],
      "text/plain": [
       "     position  velocity     theta     omega\n",
       "min -2.399977 -2.273626 -0.209193 -1.221838\n",
       "max  0.167414  0.808388  0.207591  1.878726"
      ]
     },
     "execution_count": 14,
     "metadata": {},
     "output_type": "execute_result"
    }
   ],
   "source": [
    "import pandas as pd\n",
    "pd.DataFrame(all_states.numpy(), columns=['position', 'velocity', 'theta', 'omega']).agg(['min', 'max'])"
   ]
  },
  {
   "cell_type": "code",
   "execution_count": 15,
   "metadata": {},
   "outputs": [
    {
     "data": {
      "text/html": [
       "<div>\n",
       "<style scoped>\n",
       "    .dataframe tbody tr th:only-of-type {\n",
       "        vertical-align: middle;\n",
       "    }\n",
       "\n",
       "    .dataframe tbody tr th {\n",
       "        vertical-align: top;\n",
       "    }\n",
       "\n",
       "    .dataframe thead th {\n",
       "        text-align: right;\n",
       "    }\n",
       "</style>\n",
       "<table border=\"1\" class=\"dataframe\">\n",
       "  <thead>\n",
       "    <tr style=\"text-align: right;\">\n",
       "      <th></th>\n",
       "      <th>position</th>\n",
       "      <th>velocity</th>\n",
       "      <th>theta</th>\n",
       "      <th>omega</th>\n",
       "      <th>position_sal</th>\n",
       "      <th>velocity_sal</th>\n",
       "      <th>theta_sal</th>\n",
       "      <th>omega_sal</th>\n",
       "      <th>position_bin</th>\n",
       "      <th>velocity_bin</th>\n",
       "      <th>theta_bin</th>\n",
       "      <th>omega_bin</th>\n",
       "    </tr>\n",
       "  </thead>\n",
       "  <tbody>\n",
       "    <tr>\n",
       "      <th>0</th>\n",
       "      <td>-0.023839</td>\n",
       "      <td>0.016120</td>\n",
       "      <td>-0.002548</td>\n",
       "      <td>0.020568</td>\n",
       "      <td>-0.971163</td>\n",
       "      <td>3.348012</td>\n",
       "      <td>7.510213</td>\n",
       "      <td>8.514269</td>\n",
       "      <td>(-0.163, 0.167]</td>\n",
       "      <td>(-0.228, 0.808]</td>\n",
       "      <td>(-0.0266, 0.025]</td>\n",
       "      <td>(-0.00737, 0.241]</td>\n",
       "    </tr>\n",
       "    <tr>\n",
       "      <th>1</th>\n",
       "      <td>-0.023517</td>\n",
       "      <td>0.211279</td>\n",
       "      <td>-0.002136</td>\n",
       "      <td>-0.272918</td>\n",
       "      <td>-0.692926</td>\n",
       "      <td>3.300678</td>\n",
       "      <td>7.389601</td>\n",
       "      <td>8.798882</td>\n",
       "      <td>(-0.163, 0.167]</td>\n",
       "      <td>(-0.228, 0.808]</td>\n",
       "      <td>(-0.0266, 0.025]</td>\n",
       "      <td>(-1.2229999999999999, -0.246]</td>\n",
       "    </tr>\n",
       "    <tr>\n",
       "      <th>2</th>\n",
       "      <td>-0.019291</td>\n",
       "      <td>0.406431</td>\n",
       "      <td>-0.007595</td>\n",
       "      <td>-0.566274</td>\n",
       "      <td>-1.046731</td>\n",
       "      <td>2.854181</td>\n",
       "      <td>6.643284</td>\n",
       "      <td>7.544614</td>\n",
       "      <td>(-0.163, 0.167]</td>\n",
       "      <td>(-0.228, 0.808]</td>\n",
       "      <td>(-0.0266, 0.025]</td>\n",
       "      <td>(-1.2229999999999999, -0.246]</td>\n",
       "    </tr>\n",
       "    <tr>\n",
       "      <th>3</th>\n",
       "      <td>-0.011163</td>\n",
       "      <td>0.601659</td>\n",
       "      <td>-0.018920</td>\n",
       "      <td>-0.861340</td>\n",
       "      <td>-0.900238</td>\n",
       "      <td>2.802421</td>\n",
       "      <td>6.126661</td>\n",
       "      <td>6.851016</td>\n",
       "      <td>(-0.163, 0.167]</td>\n",
       "      <td>(-0.228, 0.808]</td>\n",
       "      <td>(-0.0266, 0.025]</td>\n",
       "      <td>(-1.2229999999999999, -0.246]</td>\n",
       "    </tr>\n",
       "    <tr>\n",
       "      <th>4</th>\n",
       "      <td>0.000870</td>\n",
       "      <td>0.406800</td>\n",
       "      <td>-0.036147</td>\n",
       "      <td>-0.574665</td>\n",
       "      <td>-1.072706</td>\n",
       "      <td>2.885950</td>\n",
       "      <td>6.976521</td>\n",
       "      <td>7.733358</td>\n",
       "      <td>(-0.163, 0.167]</td>\n",
       "      <td>(-0.228, 0.808]</td>\n",
       "      <td>(-0.0743, -0.0266]</td>\n",
       "      <td>(-1.2229999999999999, -0.246]</td>\n",
       "    </tr>\n",
       "  </tbody>\n",
       "</table>\n",
       "</div>"
      ],
      "text/plain": [
       "   position  velocity     theta     omega  position_sal  velocity_sal  \\\n",
       "0 -0.023839  0.016120 -0.002548  0.020568     -0.971163      3.348012   \n",
       "1 -0.023517  0.211279 -0.002136 -0.272918     -0.692926      3.300678   \n",
       "2 -0.019291  0.406431 -0.007595 -0.566274     -1.046731      2.854181   \n",
       "3 -0.011163  0.601659 -0.018920 -0.861340     -0.900238      2.802421   \n",
       "4  0.000870  0.406800 -0.036147 -0.574665     -1.072706      2.885950   \n",
       "\n",
       "   theta_sal  omega_sal     position_bin     velocity_bin           theta_bin  \\\n",
       "0   7.510213   8.514269  (-0.163, 0.167]  (-0.228, 0.808]    (-0.0266, 0.025]   \n",
       "1   7.389601   8.798882  (-0.163, 0.167]  (-0.228, 0.808]    (-0.0266, 0.025]   \n",
       "2   6.643284   7.544614  (-0.163, 0.167]  (-0.228, 0.808]    (-0.0266, 0.025]   \n",
       "3   6.126661   6.851016  (-0.163, 0.167]  (-0.228, 0.808]    (-0.0266, 0.025]   \n",
       "4   6.976521   7.733358  (-0.163, 0.167]  (-0.228, 0.808]  (-0.0743, -0.0266]   \n",
       "\n",
       "                       omega_bin  \n",
       "0              (-0.00737, 0.241]  \n",
       "1  (-1.2229999999999999, -0.246]  \n",
       "2  (-1.2229999999999999, -0.246]  \n",
       "3  (-1.2229999999999999, -0.246]  \n",
       "4  (-1.2229999999999999, -0.246]  "
      ]
     },
     "execution_count": 15,
     "metadata": {},
     "output_type": "execute_result"
    }
   ],
   "source": [
    "cols = [\"position\", \"velocity\", \"theta\", \"omega\"]\n",
    "df = pd.DataFrame(\n",
    "    torch.concat([all_states, delta_out], dim=1).numpy(),\n",
    "    columns=cols + [x + \"_sal\" for x in cols],\n",
    ")\n",
    "\n",
    "for col in cols:\n",
    "    df[col+'_bin'] = pd.qcut(df[col], 4)\n",
    "\n",
    "\n",
    "df.head()"
   ]
  },
  {
   "cell_type": "code",
   "execution_count": 16,
   "metadata": {},
   "outputs": [
    {
     "data": {
      "text/plain": [
       "count    18911.000000\n",
       "mean        -0.550934\n",
       "std          0.421149\n",
       "min         -1.627743\n",
       "25%         -0.930538\n",
       "50%         -0.554507\n",
       "75%         -0.180346\n",
       "max          0.487882\n",
       "Name: position_sal, dtype: float64"
      ]
     },
     "execution_count": 16,
     "metadata": {},
     "output_type": "execute_result"
    }
   ],
   "source": [
    "df.position_sal.describe()"
   ]
  },
  {
   "cell_type": "markdown",
   "metadata": {},
   "source": [
    "Note that actor output is logit(action=1) (before sigmoid)\n",
    "\n",
    "- Position:  \n",
    "   +ve perturbation = moving cart to right (keeping theta, omega, velocity constant)  \n",
    "   Negative saliency in all the plots => actor wants to keep the cart at the center by moving it left\n",
    "\n",
    "- Velocity is hard to explain on saliency\n",
    "\n",
    "- For theta and omega:\n",
    " saliency is always positive\n",
    "    - if theta is increases then actor wants to move cart to right\n",
    "    - if theta decreases (large negative value) then actor wants to move cart to left\n",
    "\n",
    "\n"
   ]
  },
  {
   "cell_type": "code",
   "execution_count": 22,
   "metadata": {},
   "outputs": [
    {
     "data": {
      "text/plain": [
       "['position',\n",
       " 'velocity',\n",
       " 'theta',\n",
       " 'omega',\n",
       " 'position_sal',\n",
       " 'velocity_sal',\n",
       " 'theta_sal',\n",
       " 'omega_sal',\n",
       " 'position_bin',\n",
       " 'velocity_bin',\n",
       " 'theta_bin',\n",
       " 'omega_bin']"
      ]
     },
     "execution_count": 22,
     "metadata": {},
     "output_type": "execute_result"
    }
   ],
   "source": [
    "list(df)"
   ]
  },
  {
   "cell_type": "code",
   "execution_count": 29,
   "metadata": {},
   "outputs": [
    {
     "data": {
      "text/html": [
       "<div>\n",
       "<style scoped>\n",
       "    .dataframe tbody tr th:only-of-type {\n",
       "        vertical-align: middle;\n",
       "    }\n",
       "\n",
       "    .dataframe tbody tr th {\n",
       "        vertical-align: top;\n",
       "    }\n",
       "\n",
       "    .dataframe thead th {\n",
       "        text-align: right;\n",
       "    }\n",
       "</style>\n",
       "<table border=\"1\" class=\"dataframe\">\n",
       "  <thead>\n",
       "    <tr style=\"text-align: right;\">\n",
       "      <th></th>\n",
       "      <th>feature</th>\n",
       "      <th>saliency_mean</th>\n",
       "    </tr>\n",
       "  </thead>\n",
       "  <tbody>\n",
       "    <tr>\n",
       "      <th>0</th>\n",
       "      <td>position_sal</td>\n",
       "      <td>-0.550932</td>\n",
       "    </tr>\n",
       "    <tr>\n",
       "      <th>1</th>\n",
       "      <td>velocity_sal</td>\n",
       "      <td>3.336646</td>\n",
       "    </tr>\n",
       "    <tr>\n",
       "      <th>2</th>\n",
       "      <td>theta_sal</td>\n",
       "      <td>6.763314</td>\n",
       "    </tr>\n",
       "    <tr>\n",
       "      <th>3</th>\n",
       "      <td>omega_sal</td>\n",
       "      <td>6.630259</td>\n",
       "    </tr>\n",
       "  </tbody>\n",
       "</table>\n",
       "</div>"
      ],
      "text/plain": [
       "        feature  saliency_mean\n",
       "0  position_sal      -0.550932\n",
       "1  velocity_sal       3.336646\n",
       "2     theta_sal       6.763314\n",
       "3     omega_sal       6.630259"
      ]
     },
     "execution_count": 29,
     "metadata": {},
     "output_type": "execute_result"
    }
   ],
   "source": [
    "df[[\"position_sal\", \"velocity_sal\", \"theta_sal\", \"omega_sal\"]].mean().reset_index().rename(columns={\n",
    "    'index': 'feature',\n",
    "    0: 'saliency_mean'\n",
    "})\n"
   ]
  },
  {
   "cell_type": "code",
   "execution_count": 20,
   "metadata": {},
   "outputs": [
    {
     "data": {
      "image/png": "[encoded data removed]",
      "text/plain": [
       "<Figure size 1728x432 with 4 Axes>"
      ]
     },
     "metadata": {
      "needs_background": "light"
     },
     "output_type": "display_data"
    },
    {
     "data": {
      "image/png": "[encoded data removed]",
      "text/plain": [
       "<Figure size 1728x432 with 4 Axes>"
      ]
     },
     "metadata": {
      "needs_background": "light"
     },
     "output_type": "display_data"
    },
    {
     "data": {
      "image/png": "[encoded data removed]",
      "text/plain": [
       "<Figure size 1728x432 with 4 Axes>"
      ]
     },
     "metadata": {
      "needs_background": "light"
     },
     "output_type": "display_data"
    },
    {
     "data": {
      "image/png": "[encoded data removed]",
      "text/plain": [
       "<Figure size 1728x432 with 4 Axes>"
      ]
     },
     "metadata": {
      "needs_background": "light"
     },
     "output_type": "display_data"
    }
   ],
   "source": [
    "lim_dict = {\n",
    "    'position': [-1.75, 0.5],\n",
    "    'velocity': [2.5, 5],\n",
    "    'theta': [4.5, 10],\n",
    "    'omega': [4.5, 10],\n",
    "}\n",
    "for col in cols:\n",
    "    groups = df.groupby(col+'_bin')\n",
    "    fig, axs = plt.subplots(1, 4, figsize=(24, 6))\n",
    "    for (col_bin, group), ax in zip(groups, axs):\n",
    "        sns.histplot(data=group, x=col+'_sal', ax=ax)\n",
    "        ax.set_title(f'For {col} in {col_bin}')\n",
    "        ax.set_xlim(*lim_dict[col])\n",
    "    plt.show()"
   ]
  },
  {
   "cell_type": "code",
   "execution_count": 27,
   "metadata": {},
   "outputs": [
    {
     "data": {
      "image/png": "[encoded data removed]",
      "text/plain": [
       "<Figure size 360x360 with 1 Axes>"
      ]
     },
     "metadata": {
      "needs_background": "light"
     },
     "output_type": "display_data"
    },
    {
     "data": {
      "image/png": "[encoded data removed]",
      "text/plain": [
       "<Figure size 360x360 with 1 Axes>"
      ]
     },
     "metadata": {
      "needs_background": "light"
     },
     "output_type": "display_data"
    },
    {
     "data": {
      "image/png": "[encoded data removed]",
      "text/plain": [
       "<Figure size 360x360 with 1 Axes>"
      ]
     },
     "metadata": {
      "needs_background": "light"
     },
     "output_type": "display_data"
    },
    {
     "data": {
      "image/png": "[encoded data removed]",
      "text/plain": [
       "<Figure size 360x360 with 1 Axes>"
      ]
     },
     "metadata": {
      "needs_background": "light"
     },
     "output_type": "display_data"
    }
   ],
   "source": [
    "names = ['position', 'velocity', 'theta', 'omega']\n",
    "for idx, ax in enumerate(axs):\n",
    "    values = all_states[:, idx].numpy()\n",
    "    saliencies = delta_out[:, idx].numpy()\n",
    "    sns.displot(x=values, y=saliencies)\n",
    "    plt.xlabel(names[idx])\n",
    "    plt.ylabel('saliency')\n",
    "    plt.title(names[idx])"
   ]
  },
  {
   "cell_type": "code",
   "execution_count": null,
   "metadata": {},
   "outputs": [],
   "source": []
  }
 ],
 "metadata": {
  "interpreter": {
   "hash": "9d13b8b7d062e2c1ccd801eec5f1d954e98bfd12ae32d977a2ad01f940587408"
  },
  "kernelspec": {
   "display_name": "Python [conda env:pytorch4]",
   "language": "python",
   "name": "python3"
  },
  "language_info": {
   "codemirror_mode": {
    "name": "ipython",
    "version": 3
   },
   "file_extension": ".py",
   "mimetype": "text/x-python",
   "name": "python",
   "nbconvert_exporter": "python",
   "pygments_lexer": "ipython3",
   "version": "3.8.13"
  }
 },
 "nbformat": 4,
 "nbformat_minor": 2
}
